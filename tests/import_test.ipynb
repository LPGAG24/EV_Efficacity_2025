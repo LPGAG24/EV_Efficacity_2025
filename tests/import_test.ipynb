{
 "cells": [
  {
   "cell_type": "code",
   "execution_count": 31,
   "id": "e4b423a9",
   "metadata": {},
   "outputs": [
    {
     "name": "stderr",
     "output_type": "stream",
     "text": [
      "g:\\RepEV\\EV_Efficacity_2025\\.venv\\Lib\\site-packages\\stats_can\\api_class.py:24: FutureWarning: This class will be deprecated in upcoming v3 release. Please see the docs for details\n",
      "  warn(\n"
     ]
    },
    {
     "name": "stderr",
     "output_type": "stream",
     "text": [
      "g:\\RepEV\\EV_Efficacity_2025\\.venv\\Lib\\site-packages\\stats_can\\sc.py:608: FutureWarning: This function will be deprecated in the v3 release. Please see the docs for details.\n",
      "  warn(\n",
      "g:\\RepEV\\EV_Efficacity_2025\\.venv\\Lib\\site-packages\\stats_can\\sc.py:326: FutureWarning: This function will be deprecated in the v3 release. Please see the docs for details.\n",
      "  warn(\n"
     ]
    }
   ],
   "source": [
    "from stats_can import StatsCan\n",
    "sc = StatsCan()\n",
    "# Annual stock of active vehicle registrations\n",
    "fleet = sc.table_to_df(\"23-10-0308-01\")     # ≈ 80 k rows\n"
   ]
  },
  {
   "cell_type": "code",
   "execution_count": 8,
   "id": "bb13e621",
   "metadata": {},
   "outputs": [],
   "source": [
    "# pip install stats-can pandas\n",
    "from stats_can import StatsCan\n",
    "import pandas as pd\n",
    "def get_fleet()-> pd.DataFrame:\n",
    "    \"\"\"\n",
    "    Get the annual stock of active vehicle registrations in Canada.\"\"\"\n",
    "    sc = StatsCan()\n",
    "    tbl = sc.table_to_df(\"23-10-0308-01\")             # ≈ 80 k rows, cached\n",
    "\n",
    "    # --- keep latest reference year and the total stock of vehicles ------------\n",
    "    latest_year = tbl[\"REF_DATE\"].max()               # 2023, as of May 2025\n",
    "    fleet = tbl[(tbl[\"REF_DATE\"] == latest_year)]\n",
    "\n",
    "    # --- pivot into one row per province ---------------------------------------\n",
    "    prov_fleet = (fleet[[\"GEO\", \"VALUE\", \"Vehicle Type\", \"Fuel Type\"]]\n",
    "                  .rename(columns={\"GEO\": \"Province\", \"VALUE\": \"Vehicles\", \"Vehicle Type\": \"Type\", \"Fuel Type\": \"Fuel\"})\n",
    "                  .set_index(\"Province\")\n",
    "                  .sort_index())\n",
    "    return prov_fleet\n"
   ]
  },
  {
   "cell_type": "code",
   "execution_count": null,
   "id": "661e8fbf",
   "metadata": {},
   "outputs": [
    {
     "name": "stderr",
     "output_type": "stream",
     "text": [
      "g:\\RepEV\\EV_Efficacity_2025\\.venv\\Lib\\site-packages\\stats_can\\api_class.py:24: FutureWarning: This class will be deprecated in upcoming v3 release. Please see the docs for details\n",
      "  warn(\n",
      "g:\\RepEV\\EV_Efficacity_2025\\.venv\\Lib\\site-packages\\stats_can\\sc.py:608: FutureWarning: This function will be deprecated in the v3 release. Please see the docs for details.\n",
      "  warn(\n",
      "g:\\RepEV\\EV_Efficacity_2025\\.venv\\Lib\\site-packages\\stats_can\\sc.py:326: FutureWarning: This function will be deprecated in the v3 release. Please see the docs for details.\n",
      "  warn(\n",
      "C:\\Users\\lpgag\\AppData\\Local\\Temp\\ipykernel_24156\\3154028926.py:21: FutureWarning: The default value of observed=False is deprecated and will change to observed=True in a future version of pandas. Specify observed=False to silence this warning and retain the current behavior\n",
      "  stock = base.pivot_table(\n"
     ]
    }
   ],
   "source": [
    "from stats_can import StatsCan\n",
    "import pandas as pd\n",
    "\n",
    "# 1. pull the fleet table\n",
    "sc    = StatsCan()\n",
    "tbl   = sc.table_to_df(\"23-10-0308-01\")\n",
    "year  = tbl[\"REF_DATE\"].max()\n",
    "\n",
    "# 2. keep only the light-duty fleet, all fuel types\n",
    "base = (\n",
    "    tbl[(tbl[\"REF_DATE\"] == year) &\n",
    "        (tbl[\"Vehicle Type\"] == \"Light-duty vehicle\")]\n",
    "    [[\"GEO\", \"Vehicle Type\", \"Fuel Type\", \"VALUE\"]]\n",
    "    .rename(columns={\n",
    "        \"GEO\":   \"Region\",\n",
    "        \"VALUE\": \"Count\",\n",
    "        \"Fuel Type\": \"Fuel\",\n",
    "    })\n",
    ")\n",
    "\n",
    "stock = base.pivot_table(\n",
    "    index=[\"Region\",\"Vehicle Type\", \"Fuel Type\"],\n",
    "    columns=\"Fuel\",\n",
    "    values=\"Count\",\n",
    "    fill_value=0\n",
    ").reset_index()\n",
    "\n"
   ]
  },
  {
   "cell_type": "code",
   "execution_count": 18,
   "id": "03905969",
   "metadata": {},
   "outputs": [],
   "source": [
    "def simulate_electrification(df, frac_e=1.0, frac_h=0.0, keep_non=0.0):\n",
    "    \"\"\"\n",
    "    df : the pivoted stock DataFrame.\n",
    "    frac_e : fraction of non-EV replaced by EV\n",
    "    frac_h : fraction of non-EV replaced by HEV\n",
    "    keep_non: fraction of non-EV left unchanged\n",
    "    (must satisfy frac_e + frac_h + keep_non == 1)\n",
    "    \"\"\"\n",
    "    out = df.copy()\n",
    "    non_ev = out[out[\"Fuel\"] == \"All fuel types\"] - out[out[\"Fuel\"] == \"Battery-electric\"] - out[out[\"Fuel\"]==\"Hybrid-electric\"]\n",
    "    \n",
    "    # how many get converted\n",
    "    to_ev = frac_e * non_ev\n",
    "    to_hev = frac_h * non_ev\n",
    "    keep   = keep_non * non_ev\n",
    "\n",
    "    out[out[\"Fuel\"] ==\"Battery-electric\"] += to_ev\n",
    "    out[out[\"Fuel\"] == \"Hybrid-electric\"] += to_hev\n",
    "    out[out[\"Fuel\"] == \"Gasoline\"]        = keep   # or whatever your “other” fuel column is\n",
    "\n",
    "    return out\n"
   ]
  },
  {
   "cell_type": "code",
   "execution_count": 19,
   "id": "8031cea7",
   "metadata": {},
   "outputs": [
    {
     "name": "stderr",
     "output_type": "stream",
     "text": [
      "g:\\RepEV\\EV_Efficacity_2025\\.venv\\Lib\\site-packages\\stats_can\\api_class.py:24: FutureWarning: This class will be deprecated in upcoming v3 release. Please see the docs for details\n",
      "  warn(\n",
      "g:\\RepEV\\EV_Efficacity_2025\\.venv\\Lib\\site-packages\\stats_can\\sc.py:608: FutureWarning: This function will be deprecated in the v3 release. Please see the docs for details.\n",
      "  warn(\n",
      "g:\\RepEV\\EV_Efficacity_2025\\.venv\\Lib\\site-packages\\stats_can\\sc.py:326: FutureWarning: This function will be deprecated in the v3 release. Please see the docs for details.\n",
      "  warn(\n"
     ]
    },
    {
     "ename": "ValueError",
     "evalue": "cannot reindex on an axis with duplicate labels",
     "output_type": "error",
     "traceback": [
      "\u001b[31m---------------------------------------------------------------------------\u001b[39m",
      "\u001b[31mValueError\u001b[39m                                Traceback (most recent call last)",
      "\u001b[36mCell\u001b[39m\u001b[36m \u001b[39m\u001b[32mIn[19]\u001b[39m\u001b[32m, line 4\u001b[39m\n\u001b[32m      1\u001b[39m stock = get_fleet()  \u001b[38;5;66;03m# run this to get the fleet data\u001b[39;00m\n\u001b[32m      3\u001b[39m \u001b[38;5;66;03m# 100% electric replacement:\u001b[39;00m\n\u001b[32m----> \u001b[39m\u001b[32m4\u001b[39m sim100e = \u001b[43msimulate_electrification\u001b[49m\u001b[43m(\u001b[49m\u001b[43mstock\u001b[49m\u001b[43m,\u001b[49m\u001b[43m \u001b[49m\u001b[43mfrac_e\u001b[49m\u001b[43m=\u001b[49m\u001b[32;43m1.0\u001b[39;49m\u001b[43m,\u001b[49m\u001b[43m \u001b[49m\u001b[43mfrac_h\u001b[49m\u001b[43m=\u001b[49m\u001b[32;43m0.0\u001b[39;49m\u001b[43m,\u001b[49m\u001b[43m \u001b[49m\u001b[43mkeep_non\u001b[49m\u001b[43m=\u001b[49m\u001b[32;43m0.0\u001b[39;49m\u001b[43m)\u001b[49m\n\u001b[32m      6\u001b[39m \u001b[38;5;66;03m# 50/50 electric / hybrid:\u001b[39;00m\n\u001b[32m      7\u001b[39m sim50_50 = simulate_electrification(stock, frac_e=\u001b[32m0.5\u001b[39m, frac_h=\u001b[32m0.5\u001b[39m, keep_non=\u001b[32m0.0\u001b[39m)\n",
      "\u001b[36mCell\u001b[39m\u001b[36m \u001b[39m\u001b[32mIn[18]\u001b[39m\u001b[32m, line 17\u001b[39m, in \u001b[36msimulate_electrification\u001b[39m\u001b[34m(df, frac_e, frac_h, keep_non)\u001b[39m\n\u001b[32m     14\u001b[39m to_hev = frac_h * non_ev\n\u001b[32m     15\u001b[39m keep   = keep_non * non_ev\n\u001b[32m---> \u001b[39m\u001b[32m17\u001b[39m \u001b[43mout\u001b[49m\u001b[43m[\u001b[49m\u001b[43mout\u001b[49m\u001b[43m[\u001b[49m\u001b[33;43m\"\u001b[39;49m\u001b[33;43mFuel\u001b[39;49m\u001b[33;43m\"\u001b[39;49m\u001b[43m]\u001b[49m\u001b[43m \u001b[49m\u001b[43m==\u001b[49m\u001b[33;43m\"\u001b[39;49m\u001b[33;43mBattery-electric\u001b[39;49m\u001b[33;43m\"\u001b[39;49m\u001b[43m]\u001b[49m\u001b[43m \u001b[49m\u001b[43m+\u001b[49m\u001b[43m=\u001b[49m\u001b[43m \u001b[49m\u001b[43mto_ev\u001b[49m\n\u001b[32m     18\u001b[39m out[out[\u001b[33m\"\u001b[39m\u001b[33mFuel\u001b[39m\u001b[33m\"\u001b[39m] == \u001b[33m\"\u001b[39m\u001b[33mHybrid-electric\u001b[39m\u001b[33m\"\u001b[39m] += to_hev\n\u001b[32m     19\u001b[39m out[out[\u001b[33m\"\u001b[39m\u001b[33mFuel\u001b[39m\u001b[33m\"\u001b[39m] == \u001b[33m\"\u001b[39m\u001b[33mGasoline\u001b[39m\u001b[33m\"\u001b[39m]        = keep   \u001b[38;5;66;03m# or whatever your “other” fuel column is\u001b[39;00m\n",
      "\u001b[36mFile \u001b[39m\u001b[32mg:\\RepEV\\EV_Efficacity_2025\\.venv\\Lib\\site-packages\\pandas\\core\\generic.py:12719\u001b[39m, in \u001b[36mNDFrame.__iadd__\u001b[39m\u001b[34m(self, other)\u001b[39m\n\u001b[32m  12716\u001b[39m \u001b[38;5;129m@final\u001b[39m\n\u001b[32m  12717\u001b[39m \u001b[38;5;28;01mdef\u001b[39;00m\u001b[38;5;250m \u001b[39m\u001b[34m__iadd__\u001b[39m(\u001b[38;5;28mself\u001b[39m, other) -> Self:\n\u001b[32m  12718\u001b[39m     \u001b[38;5;66;03m# error: Unsupported left operand type for + (\"Type[NDFrame]\")\u001b[39;00m\n\u001b[32m> \u001b[39m\u001b[32m12719\u001b[39m     \u001b[38;5;28;01mreturn\u001b[39;00m \u001b[38;5;28;43mself\u001b[39;49m\u001b[43m.\u001b[49m\u001b[43m_inplace_method\u001b[49m\u001b[43m(\u001b[49m\u001b[43mother\u001b[49m\u001b[43m,\u001b[49m\u001b[43m \u001b[49m\u001b[38;5;28;43mtype\u001b[39;49m\u001b[43m(\u001b[49m\u001b[38;5;28;43mself\u001b[39;49m\u001b[43m)\u001b[49m\u001b[43m.\u001b[49m\u001b[34;43m__add__\u001b[39;49m\u001b[43m)\u001b[49m\n",
      "\u001b[36mFile \u001b[39m\u001b[32mg:\\RepEV\\EV_Efficacity_2025\\.venv\\Lib\\site-packages\\pandas\\core\\generic.py:12712\u001b[39m, in \u001b[36mNDFrame._inplace_method\u001b[39m\u001b[34m(self, other, op)\u001b[39m\n\u001b[32m  12707\u001b[39m \u001b[38;5;28mself\u001b[39m._reset_cacher()\n\u001b[32m  12709\u001b[39m \u001b[38;5;66;03m# this makes sure that we are aligned like the input\u001b[39;00m\n\u001b[32m  12710\u001b[39m \u001b[38;5;66;03m# we are updating inplace so we want to ignore is_copy\u001b[39;00m\n\u001b[32m  12711\u001b[39m \u001b[38;5;28mself\u001b[39m._update_inplace(\n\u001b[32m> \u001b[39m\u001b[32m12712\u001b[39m     \u001b[43mresult\u001b[49m\u001b[43m.\u001b[49m\u001b[43mreindex_like\u001b[49m\u001b[43m(\u001b[49m\u001b[38;5;28;43mself\u001b[39;49m\u001b[43m,\u001b[49m\u001b[43m \u001b[49m\u001b[43mcopy\u001b[49m\u001b[43m=\u001b[49m\u001b[38;5;28;43;01mFalse\u001b[39;49;00m\u001b[43m)\u001b[49m, verify_is_copy=\u001b[38;5;28;01mFalse\u001b[39;00m\n\u001b[32m  12713\u001b[39m )\n\u001b[32m  12714\u001b[39m \u001b[38;5;28;01mreturn\u001b[39;00m \u001b[38;5;28mself\u001b[39m\n",
      "\u001b[36mFile \u001b[39m\u001b[32mg:\\RepEV\\EV_Efficacity_2025\\.venv\\Lib\\site-packages\\pandas\\core\\generic.py:4713\u001b[39m, in \u001b[36mNDFrame.reindex_like\u001b[39m\u001b[34m(self, other, method, copy, limit, tolerance)\u001b[39m\n\u001b[32m   4600\u001b[39m \u001b[38;5;250m\u001b[39m\u001b[33;03m\"\"\"\u001b[39;00m\n\u001b[32m   4601\u001b[39m \u001b[33;03mReturn an object with matching indices as other object.\u001b[39;00m\n\u001b[32m   4602\u001b[39m \n\u001b[32m   (...)\u001b[39m\u001b[32m   4703\u001b[39m \u001b[33;03m2014-02-15          35.1              NaN    medium\u001b[39;00m\n\u001b[32m   4704\u001b[39m \u001b[33;03m\"\"\"\u001b[39;00m\n\u001b[32m   4705\u001b[39m d = other._construct_axes_dict(\n\u001b[32m   4706\u001b[39m     axes=\u001b[38;5;28mself\u001b[39m._AXIS_ORDERS,\n\u001b[32m   4707\u001b[39m     method=method,\n\u001b[32m   (...)\u001b[39m\u001b[32m   4710\u001b[39m     tolerance=tolerance,\n\u001b[32m   4711\u001b[39m )\n\u001b[32m-> \u001b[39m\u001b[32m4713\u001b[39m \u001b[38;5;28;01mreturn\u001b[39;00m \u001b[38;5;28;43mself\u001b[39;49m\u001b[43m.\u001b[49m\u001b[43mreindex\u001b[49m\u001b[43m(\u001b[49m\u001b[43m*\u001b[49m\u001b[43m*\u001b[49m\u001b[43md\u001b[49m\u001b[43m)\u001b[49m\n",
      "\u001b[36mFile \u001b[39m\u001b[32mg:\\RepEV\\EV_Efficacity_2025\\.venv\\Lib\\site-packages\\pandas\\core\\frame.py:5378\u001b[39m, in \u001b[36mDataFrame.reindex\u001b[39m\u001b[34m(self, labels, index, columns, axis, method, copy, level, fill_value, limit, tolerance)\u001b[39m\n\u001b[32m   5359\u001b[39m \u001b[38;5;129m@doc\u001b[39m(\n\u001b[32m   5360\u001b[39m     NDFrame.reindex,\n\u001b[32m   5361\u001b[39m     klass=_shared_doc_kwargs[\u001b[33m\"\u001b[39m\u001b[33mklass\u001b[39m\u001b[33m\"\u001b[39m],\n\u001b[32m   (...)\u001b[39m\u001b[32m   5376\u001b[39m     tolerance=\u001b[38;5;28;01mNone\u001b[39;00m,\n\u001b[32m   5377\u001b[39m ) -> DataFrame:\n\u001b[32m-> \u001b[39m\u001b[32m5378\u001b[39m     \u001b[38;5;28;01mreturn\u001b[39;00m \u001b[38;5;28;43msuper\u001b[39;49m\u001b[43m(\u001b[49m\u001b[43m)\u001b[49m\u001b[43m.\u001b[49m\u001b[43mreindex\u001b[49m\u001b[43m(\u001b[49m\n\u001b[32m   5379\u001b[39m \u001b[43m        \u001b[49m\u001b[43mlabels\u001b[49m\u001b[43m=\u001b[49m\u001b[43mlabels\u001b[49m\u001b[43m,\u001b[49m\n\u001b[32m   5380\u001b[39m \u001b[43m        \u001b[49m\u001b[43mindex\u001b[49m\u001b[43m=\u001b[49m\u001b[43mindex\u001b[49m\u001b[43m,\u001b[49m\n\u001b[32m   5381\u001b[39m \u001b[43m        \u001b[49m\u001b[43mcolumns\u001b[49m\u001b[43m=\u001b[49m\u001b[43mcolumns\u001b[49m\u001b[43m,\u001b[49m\n\u001b[32m   5382\u001b[39m \u001b[43m        \u001b[49m\u001b[43maxis\u001b[49m\u001b[43m=\u001b[49m\u001b[43maxis\u001b[49m\u001b[43m,\u001b[49m\n\u001b[32m   5383\u001b[39m \u001b[43m        \u001b[49m\u001b[43mmethod\u001b[49m\u001b[43m=\u001b[49m\u001b[43mmethod\u001b[49m\u001b[43m,\u001b[49m\n\u001b[32m   5384\u001b[39m \u001b[43m        \u001b[49m\u001b[43mcopy\u001b[49m\u001b[43m=\u001b[49m\u001b[43mcopy\u001b[49m\u001b[43m,\u001b[49m\n\u001b[32m   5385\u001b[39m \u001b[43m        \u001b[49m\u001b[43mlevel\u001b[49m\u001b[43m=\u001b[49m\u001b[43mlevel\u001b[49m\u001b[43m,\u001b[49m\n\u001b[32m   5386\u001b[39m \u001b[43m        \u001b[49m\u001b[43mfill_value\u001b[49m\u001b[43m=\u001b[49m\u001b[43mfill_value\u001b[49m\u001b[43m,\u001b[49m\n\u001b[32m   5387\u001b[39m \u001b[43m        \u001b[49m\u001b[43mlimit\u001b[49m\u001b[43m=\u001b[49m\u001b[43mlimit\u001b[49m\u001b[43m,\u001b[49m\n\u001b[32m   5388\u001b[39m \u001b[43m        \u001b[49m\u001b[43mtolerance\u001b[49m\u001b[43m=\u001b[49m\u001b[43mtolerance\u001b[49m\u001b[43m,\u001b[49m\n\u001b[32m   5389\u001b[39m \u001b[43m    \u001b[49m\u001b[43m)\u001b[49m\n",
      "\u001b[36mFile \u001b[39m\u001b[32mg:\\RepEV\\EV_Efficacity_2025\\.venv\\Lib\\site-packages\\pandas\\core\\generic.py:5610\u001b[39m, in \u001b[36mNDFrame.reindex\u001b[39m\u001b[34m(self, labels, index, columns, axis, method, copy, level, fill_value, limit, tolerance)\u001b[39m\n\u001b[32m   5607\u001b[39m     \u001b[38;5;28;01mreturn\u001b[39;00m \u001b[38;5;28mself\u001b[39m._reindex_multi(axes, copy, fill_value)\n\u001b[32m   5609\u001b[39m \u001b[38;5;66;03m# perform the reindex on the axes\u001b[39;00m\n\u001b[32m-> \u001b[39m\u001b[32m5610\u001b[39m \u001b[38;5;28;01mreturn\u001b[39;00m \u001b[38;5;28;43mself\u001b[39;49m\u001b[43m.\u001b[49m\u001b[43m_reindex_axes\u001b[49m\u001b[43m(\u001b[49m\n\u001b[32m   5611\u001b[39m \u001b[43m    \u001b[49m\u001b[43maxes\u001b[49m\u001b[43m,\u001b[49m\u001b[43m \u001b[49m\u001b[43mlevel\u001b[49m\u001b[43m,\u001b[49m\u001b[43m \u001b[49m\u001b[43mlimit\u001b[49m\u001b[43m,\u001b[49m\u001b[43m \u001b[49m\u001b[43mtolerance\u001b[49m\u001b[43m,\u001b[49m\u001b[43m \u001b[49m\u001b[43mmethod\u001b[49m\u001b[43m,\u001b[49m\u001b[43m \u001b[49m\u001b[43mfill_value\u001b[49m\u001b[43m,\u001b[49m\u001b[43m \u001b[49m\u001b[43mcopy\u001b[49m\n\u001b[32m   5612\u001b[39m \u001b[43m\u001b[49m\u001b[43m)\u001b[49m.__finalize__(\u001b[38;5;28mself\u001b[39m, method=\u001b[33m\"\u001b[39m\u001b[33mreindex\u001b[39m\u001b[33m\"\u001b[39m)\n",
      "\u001b[36mFile \u001b[39m\u001b[32mg:\\RepEV\\EV_Efficacity_2025\\.venv\\Lib\\site-packages\\pandas\\core\\generic.py:5633\u001b[39m, in \u001b[36mNDFrame._reindex_axes\u001b[39m\u001b[34m(self, axes, level, limit, tolerance, method, fill_value, copy)\u001b[39m\n\u001b[32m   5630\u001b[39m     \u001b[38;5;28;01mcontinue\u001b[39;00m\n\u001b[32m   5632\u001b[39m ax = \u001b[38;5;28mself\u001b[39m._get_axis(a)\n\u001b[32m-> \u001b[39m\u001b[32m5633\u001b[39m new_index, indexer = \u001b[43max\u001b[49m\u001b[43m.\u001b[49m\u001b[43mreindex\u001b[49m\u001b[43m(\u001b[49m\n\u001b[32m   5634\u001b[39m \u001b[43m    \u001b[49m\u001b[43mlabels\u001b[49m\u001b[43m,\u001b[49m\u001b[43m \u001b[49m\u001b[43mlevel\u001b[49m\u001b[43m=\u001b[49m\u001b[43mlevel\u001b[49m\u001b[43m,\u001b[49m\u001b[43m \u001b[49m\u001b[43mlimit\u001b[49m\u001b[43m=\u001b[49m\u001b[43mlimit\u001b[49m\u001b[43m,\u001b[49m\u001b[43m \u001b[49m\u001b[43mtolerance\u001b[49m\u001b[43m=\u001b[49m\u001b[43mtolerance\u001b[49m\u001b[43m,\u001b[49m\u001b[43m \u001b[49m\u001b[43mmethod\u001b[49m\u001b[43m=\u001b[49m\u001b[43mmethod\u001b[49m\n\u001b[32m   5635\u001b[39m \u001b[43m\u001b[49m\u001b[43m)\u001b[49m\n\u001b[32m   5637\u001b[39m axis = \u001b[38;5;28mself\u001b[39m._get_axis_number(a)\n\u001b[32m   5638\u001b[39m obj = obj._reindex_with_indexers(\n\u001b[32m   5639\u001b[39m     {axis: [new_index, indexer]},\n\u001b[32m   5640\u001b[39m     fill_value=fill_value,\n\u001b[32m   5641\u001b[39m     copy=copy,\n\u001b[32m   5642\u001b[39m     allow_dups=\u001b[38;5;28;01mFalse\u001b[39;00m,\n\u001b[32m   5643\u001b[39m )\n",
      "\u001b[36mFile \u001b[39m\u001b[32mg:\\RepEV\\EV_Efficacity_2025\\.venv\\Lib\\site-packages\\pandas\\core\\indexes\\category.py:396\u001b[39m, in \u001b[36mCategoricalIndex.reindex\u001b[39m\u001b[34m(self, target, method, level, limit, tolerance)\u001b[39m\n\u001b[32m    392\u001b[39m \u001b[38;5;28;01mif\u001b[39;00m limit \u001b[38;5;129;01mis\u001b[39;00m \u001b[38;5;129;01mnot\u001b[39;00m \u001b[38;5;28;01mNone\u001b[39;00m:\n\u001b[32m    393\u001b[39m     \u001b[38;5;28;01mraise\u001b[39;00m \u001b[38;5;167;01mNotImplementedError\u001b[39;00m(\n\u001b[32m    394\u001b[39m         \u001b[33m\"\u001b[39m\u001b[33margument limit is not implemented for CategoricalIndex.reindex\u001b[39m\u001b[33m\"\u001b[39m\n\u001b[32m    395\u001b[39m     )\n\u001b[32m--> \u001b[39m\u001b[32m396\u001b[39m \u001b[38;5;28;01mreturn\u001b[39;00m \u001b[38;5;28;43msuper\u001b[39;49m\u001b[43m(\u001b[49m\u001b[43m)\u001b[49m\u001b[43m.\u001b[49m\u001b[43mreindex\u001b[49m\u001b[43m(\u001b[49m\u001b[43mtarget\u001b[49m\u001b[43m)\u001b[49m\n",
      "\u001b[36mFile \u001b[39m\u001b[32mg:\\RepEV\\EV_Efficacity_2025\\.venv\\Lib\\site-packages\\pandas\\core\\indexes\\base.py:4429\u001b[39m, in \u001b[36mIndex.reindex\u001b[39m\u001b[34m(self, target, method, level, limit, tolerance)\u001b[39m\n\u001b[32m   4426\u001b[39m     \u001b[38;5;28;01mraise\u001b[39;00m \u001b[38;5;167;01mValueError\u001b[39;00m(\u001b[33m\"\u001b[39m\u001b[33mcannot handle a non-unique multi-index!\u001b[39m\u001b[33m\"\u001b[39m)\n\u001b[32m   4427\u001b[39m \u001b[38;5;28;01melif\u001b[39;00m \u001b[38;5;129;01mnot\u001b[39;00m \u001b[38;5;28mself\u001b[39m.is_unique:\n\u001b[32m   4428\u001b[39m     \u001b[38;5;66;03m# GH#42568\u001b[39;00m\n\u001b[32m-> \u001b[39m\u001b[32m4429\u001b[39m     \u001b[38;5;28;01mraise\u001b[39;00m \u001b[38;5;167;01mValueError\u001b[39;00m(\u001b[33m\"\u001b[39m\u001b[33mcannot reindex on an axis with duplicate labels\u001b[39m\u001b[33m\"\u001b[39m)\n\u001b[32m   4430\u001b[39m \u001b[38;5;28;01melse\u001b[39;00m:\n\u001b[32m   4431\u001b[39m     indexer, _ = \u001b[38;5;28mself\u001b[39m.get_indexer_non_unique(target)\n",
      "\u001b[31mValueError\u001b[39m: cannot reindex on an axis with duplicate labels"
     ]
    }
   ],
   "source": [
    "stock = get_fleet()  # run this to get the fleet data\n",
    "\n",
    "# 100% electric replacement:\n",
    "sim100e = simulate_electrification(stock, frac_e=1.0, frac_h=0.0, keep_non=0.0)\n",
    "\n",
    "# 50/50 electric / hybrid:\n",
    "sim50_50 = simulate_electrification(stock, frac_e=0.5, frac_h=0.5, keep_non=0.0)\n",
    "\n",
    "# 100% hybrid:\n",
    "sim100h = simulate_electrification(stock, frac_e=0.0, frac_h=1.0, keep_non=0.0)\n"
   ]
  }
 ],
 "metadata": {
  "kernelspec": {
   "display_name": ".venv",
   "language": "python",
   "name": "python3"
  },
  "language_info": {
   "codemirror_mode": {
    "name": "ipython",
    "version": 3
   },
   "file_extension": ".py",
   "mimetype": "text/x-python",
   "name": "python",
   "nbconvert_exporter": "python",
   "pygments_lexer": "ipython3",
   "version": "3.13.3"
  }
 },
 "nbformat": 4,
 "nbformat_minor": 5
}
