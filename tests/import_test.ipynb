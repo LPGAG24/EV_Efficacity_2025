{
 "cells": [
  {
   "cell_type": "code",
   "execution_count": 31,
   "id": "e4b423a9",
   "metadata": {},
   "outputs": [
    {
     "name": "stderr",
     "output_type": "stream",
     "text": [
      "g:\\RepEV\\EV_Efficacity_2025\\.venv\\Lib\\site-packages\\stats_can\\api_class.py:24: FutureWarning: This class will be deprecated in upcoming v3 release. Please see the docs for details\n",
      "  warn(\n"
     ]
    },
    {
     "name": "stderr",
     "output_type": "stream",
     "text": [
      "g:\\RepEV\\EV_Efficacity_2025\\.venv\\Lib\\site-packages\\stats_can\\sc.py:608: FutureWarning: This function will be deprecated in the v3 release. Please see the docs for details.\n",
      "  warn(\n",
      "g:\\RepEV\\EV_Efficacity_2025\\.venv\\Lib\\site-packages\\stats_can\\sc.py:326: FutureWarning: This function will be deprecated in the v3 release. Please see the docs for details.\n",
      "  warn(\n"
     ]
    }
   ],
   "source": [
    "from stats_can import StatsCan\n",
    "sc = StatsCan()\n",
    "# Annual stock of active vehicle registrations\n",
    "fleet = sc.table_to_df(\"23-10-0308-01\")     # ≈ 80 k rows\n"
   ]
  },
  {
   "cell_type": "code",
   "execution_count": 8,
   "id": "bb13e621",
   "metadata": {},
   "outputs": [],
   "source": [
    "# pip install stats-can pandas\n",
    "from stats_can import StatsCan\n",
    "import pandas as pd\n",
    "def get_fleet()-> pd.DataFrame:\n",
    "    \"\"\"\n",
    "    Get the annual stock of active vehicle registrations in Canada.\"\"\"\n",
    "    sc = StatsCan()\n",
    "    tbl = sc.table_to_df(\"23-10-0308-01\")             # ≈ 80 k rows, cached\n",
    "\n",
    "    # --- keep latest reference year and the total stock of vehicles ------------\n",
    "    latest_year = tbl[\"REF_DATE\"].max()               # 2023, as of May 2025\n",
    "    fleet = tbl[(tbl[\"REF_DATE\"] == latest_year)]\n",
    "\n",
    "    # --- pivot into one row per province ---------------------------------------\n",
    "    prov_fleet = (fleet[[\"GEO\", \"VALUE\", \"Vehicle Type\", \"Fuel Type\"]]\n",
    "                  .rename(columns={\"GEO\": \"Province\", \"VALUE\": \"Vehicles\", \"Vehicle Type\": \"Type\", \"Fuel Type\": \"Fuel\"})\n",
    "                  .set_index(\"Province\")\n",
    "                  .sort_index())\n",
    "    return prov_fleet\n"
   ]
  },
  {
   "cell_type": "code",
   "execution_count": null,
   "id": "661e8fbf",
   "metadata": {},
   "outputs": [
    {
     "name": "stderr",
     "output_type": "stream",
     "text": [
      "g:\\RepEV\\EV_Efficacity_2025\\.venv\\Lib\\site-packages\\stats_can\\api_class.py:24: FutureWarning: This class will be deprecated in upcoming v3 release. Please see the docs for details\n",
      "  warn(\n",
      "g:\\RepEV\\EV_Efficacity_2025\\.venv\\Lib\\site-packages\\stats_can\\sc.py:608: FutureWarning: This function will be deprecated in the v3 release. Please see the docs for details.\n",
      "  warn(\n",
      "g:\\RepEV\\EV_Efficacity_2025\\.venv\\Lib\\site-packages\\stats_can\\sc.py:326: FutureWarning: This function will be deprecated in the v3 release. Please see the docs for details.\n",
      "  warn(\n",
      "C:\\Users\\lpgag\\AppData\\Local\\Temp\\ipykernel_24156\\3154028926.py:21: FutureWarning: The default value of observed=False is deprecated and will change to observed=True in a future version of pandas. Specify observed=False to silence this warning and retain the current behavior\n",
      "  stock = base.pivot_table(\n"
     ]
    }
   ],
   "source": [
    "from stats_can import StatsCan\n",
    "import pandas as pd\n",
    "\n",
    "# 1. pull the fleet table\n",
    "sc    = StatsCan()\n",
    "tbl   = sc.table_to_df(\"23-10-0308-01\")\n",
    "year  = tbl[\"REF_DATE\"].max()\n",
    "\n",
    "# 2. keep only the light-duty fleet, all fuel types\n",
    "base = (\n",
    "    tbl[(tbl[\"REF_DATE\"] == year) &\n",
    "        (tbl[\"Vehicle Type\"] == \"Light-duty vehicle\")]\n",
    "    [[\"GEO\", \"Vehicle Type\", \"Fuel Type\", \"VALUE\"]]\n",
    "    .rename(columns={\n",
    "        \"GEO\":   \"Region\",\n",
    "        \"VALUE\": \"Count\",\n",
    "        \"Fuel Type\": \"Fuel\",\n",
    "    })\n",
    ")\n",
    "\n",
    "stock = base.pivot_table(\n",
    "    index=[\"Region\",\"Vehicle Type\", \"Fuel Type\"],\n",
    "    columns=\"Fuel\",\n",
    "    values=\"Count\",\n",
    "    fill_value=0\n",
    ").reset_index()\n",
    "\n"
   ]
  },
  {
   "cell_type": "code",
   "execution_count": 18,
   "id": "03905969",
   "metadata": {},
   "outputs": [],
   "source": [
    "def simulate_electrification(df, frac_e=1.0, frac_h=0.0, keep_non=0.0):\n",
    "    \"\"\"\n",
    "    df : the pivoted stock DataFrame.\n",
    "    frac_e : fraction of non-EV replaced by EV\n",
    "    frac_h : fraction of non-EV replaced by HEV\n",
    "    keep_non: fraction of non-EV left unchanged\n",
    "    (must satisfy frac_e + frac_h + keep_non == 1)\n",
    "    \"\"\"\n",
    "    out = df.copy()\n",
    "    non_ev = out[out[\"Fuel\"] == \"All fuel types\"] - out[out[\"Fuel\"] == \"Battery-electric\"] - out[out[\"Fuel\"]==\"Hybrid-electric\"]\n",
    "    \n",
    "    # how many get converted\n",
    "    to_ev = frac_e * non_ev\n",
    "    to_hev = frac_h * non_ev\n",
    "    keep   = keep_non * non_ev\n",
    "\n",
    "    out[out[\"Fuel\"] ==\"Battery-electric\"] += to_ev\n",
    "    out[out[\"Fuel\"] == \"Hybrid-electric\"] += to_hev\n",
    "    out[out[\"Fuel\"] == \"Gasoline\"]        = keep   # or whatever your “other” fuel column is\n",
    "\n",
    "    return out\n"
   ]
  },
  {
   "cell_type": "code",
   "execution_count": 19,
   "id": "8031cea7",
   "metadata": {},
   "outputs": [
    {
     "name": "stderr",
     "output_type": "stream",
     "text": [
      "g:\\RepEV\\EV_Efficacity_2025\\.venv\\Lib\\site-packages\\stats_can\\api_class.py:24: FutureWarning: This class will be deprecated in upcoming v3 release. Please see the docs for details\n",
      "  warn(\n",
      "g:\\RepEV\\EV_Efficacity_2025\\.venv\\Lib\\site-packages\\stats_can\\sc.py:608: FutureWarning: This function will be deprecated in the v3 release. Please see the docs for details.\n",
      "  warn(\n",
      "g:\\RepEV\\EV_Efficacity_2025\\.venv\\Lib\\site-packages\\stats_can\\sc.py:326: FutureWarning: This function will be deprecated in the v3 release. Please see the docs for details.\n",
      "  warn(\n"
     ]
    },
    {
     "ename": "ValueError",
     "evalue": "cannot reindex on an axis with duplicate labels",
     "output_type": "error",
     "traceback": [
      "\u001b[31m---------------------------------------------------------------------------\u001b[39m",
      "\u001b[31mValueError\u001b[39m                                Traceback (most recent call last)",
      "\u001b[36mCell\u001b[39m\u001b[36m \u001b[39m\u001b[32mIn[19]\u001b[39m\u001b[32m, line 4\u001b[39m\n\u001b[32m      1\u001b[39m stock = get_fleet()  \u001b[38;5;66;03m# run this to get the fleet data\u001b[39;00m\n\u001b[32m      3\u001b[39m \u001b[38;5;66;03m# 100% electric replacement:\u001b[39;00m\n\u001b[32m----> \u001b[39m\u001b[32m4\u001b[39m sim100e = \u001b[43msimulate_electrification\u001b[49m\u001b[43m(\u001b[49m\u001b[43mstock\u001b[49m\u001b[43m,\u001b[49m\u001b[43m \u001b[49m\u001b[43mfrac_e\u001b[49m\u001b[43m=\u001b[49m\u001b[32;43m1.0\u001b[39;49m\u001b[43m,\u001b[49m\u001b[43m \u001b[49m\u001b[43mfrac_h\u001b[49m\u001b[43m=\u001b[49m\u001b[32;43m0.0\u001b[39;49m\u001b[43m,\u001b[49m\u001b[43m \u001b[49m\u001b[43mkeep_non\u001b[49m\u001b[43m=\u001b[49m\u001b[32;43m0.0\u001b[39;49m\u001b[43m)\u001b[49m\n\u001b[32m      6\u001b[39m \u001b[38;5;66;03m# 50/50 electric / hybrid:\u001b[39;00m\n\u001b[32m      7\u001b[39m sim50_50 = simulate_electrification(stock, frac_e=\u001b[32m0.5\u001b[39m, frac_h=\u001b[32m0.5\u001b[39m, keep_non=\u001b[32m0.0\u001b[39m)\n",
      "\u001b[36mCell\u001b[39m\u001b[36m \u001b[39m\u001b[32mIn[18]\u001b[39m\u001b[32m, line 17\u001b[39m, in \u001b[36msimulate_electrification\u001b[39m\u001b[34m(df, frac_e, frac_h, keep_non)\u001b[39m\n\u001b[32m     14\u001b[39m to_hev = frac_h * non_ev\n\u001b[32m     15\u001b[39m keep   = keep_non * non_ev\n\u001b[32m---> \u001b[39m\u001b[32m17\u001b[39m \u001b[43mout\u001b[49m\u001b[43m[\u001b[49m\u001b[43mout\u001b[49m\u001b[43m[\u001b[49m\u001b[33;43m\"\u001b[39;49m\u001b[33;43mFuel\u001b[39;49m\u001b[33;43m\"\u001b[39;49m\u001b[43m]\u001b[49m\u001b[43m \u001b[49m\u001b[43m==\u001b[49m\u001b[33;43m\"\u001b[39;49m\u001b[33;43mBattery-electric\u001b[39;49m\u001b[33;43m\"\u001b[39;49m\u001b[43m]\u001b[49m\u001b[43m \u001b[49m\u001b[43m+\u001b[49m\u001b[43m=\u001b[49m\u001b[43m \u001b[49m\u001b[43mto_ev\u001b[49m\n\u001b[32m     18\u001b[39m out[out[\u001b[33m\"\u001b[39m\u001b[33mFuel\u001b[39m\u001b[33m\"\u001b[39m] == \u001b[33m\"\u001b[39m\u001b[33mHybrid-electric\u001b[39m\u001b[33m\"\u001b[39m] += to_hev\n\u001b[32m     19\u001b[39m out[out[\u001b[33m\"\u001b[39m\u001b[33mFuel\u001b[39m\u001b[33m\"\u001b[39m] == \u001b[33m\"\u001b[39m\u001b[33mGasoline\u001b[39m\u001b[33m\"\u001b[39m]        = keep   \u001b[38;5;66;03m# or whatever your “other” fuel column is\u001b[39;00m\n",
      "\u001b[36mFile \u001b[39m\u001b[32mg:\\RepEV\\EV_Efficacity_2025\\.venv\\Lib\\site-packages\\pandas\\core\\generic.py:12719\u001b[39m, in \u001b[36mNDFrame.__iadd__\u001b[39m\u001b[34m(self, other)\u001b[39m\n\u001b[32m  12716\u001b[39m \u001b[38;5;129m@final\u001b[39m\n\u001b[32m  12717\u001b[39m \u001b[38;5;28;01mdef\u001b[39;00m\u001b[38;5;250m \u001b[39m\u001b[34m__iadd__\u001b[39m(\u001b[38;5;28mself\u001b[39m, other) -> Self:\n\u001b[32m  12718\u001b[39m     \u001b[38;5;66;03m# error: Unsupported left operand type for + (\"Type[NDFrame]\")\u001b[39;00m\n\u001b[32m> \u001b[39m\u001b[32m12719\u001b[39m     \u001b[38;5;28;01mreturn\u001b[39;00m \u001b[38;5;28;43mself\u001b[39;49m\u001b[43m.\u001b[49m\u001b[43m_inplace_method\u001b[49m\u001b[43m(\u001b[49m\u001b[43mother\u001b[49m\u001b[43m,\u001b[49m\u001b[43m \u001b[49m\u001b[38;5;28;43mtype\u001b[39;49m\u001b[43m(\u001b[49m\u001b[38;5;28;43mself\u001b[39;49m\u001b[43m)\u001b[49m\u001b[43m.\u001b[49m\u001b[34;43m__add__\u001b[39;49m\u001b[43m)\u001b[49m\n",
      "\u001b[36mFile \u001b[39m\u001b[32mg:\\RepEV\\EV_Efficacity_2025\\.venv\\Lib\\site-packages\\pandas\\core\\generic.py:12712\u001b[39m, in \u001b[36mNDFrame._inplace_method\u001b[39m\u001b[34m(self, other, op)\u001b[39m\n\u001b[32m  12707\u001b[39m \u001b[38;5;28mself\u001b[39m._reset_cacher()\n\u001b[32m  12709\u001b[39m \u001b[38;5;66;03m# this makes sure that we are aligned like the input\u001b[39;00m\n\u001b[32m  12710\u001b[39m \u001b[38;5;66;03m# we are updating inplace so we want to ignore is_copy\u001b[39;00m\n\u001b[32m  12711\u001b[39m \u001b[38;5;28mself\u001b[39m._update_inplace(\n\u001b[32m> \u001b[39m\u001b[32m12712\u001b[39m     \u001b[43mresult\u001b[49m\u001b[43m.\u001b[49m\u001b[43mreindex_like\u001b[49m\u001b[43m(\u001b[49m\u001b[38;5;28;43mself\u001b[39;49m\u001b[43m,\u001b[49m\u001b[43m \u001b[49m\u001b[43mcopy\u001b[49m\u001b[43m=\u001b[49m\u001b[38;5;28;43;01mFalse\u001b[39;49;00m\u001b[43m)\u001b[49m, verify_is_copy=\u001b[38;5;28;01mFalse\u001b[39;00m\n\u001b[32m  12713\u001b[39m )\n\u001b[32m  12714\u001b[39m \u001b[38;5;28;01mreturn\u001b[39;00m \u001b[38;5;28mself\u001b[39m\n",
      "\u001b[36mFile \u001b[39m\u001b[32mg:\\RepEV\\EV_Efficacity_2025\\.venv\\Lib\\site-packages\\pandas\\core\\generic.py:4713\u001b[39m, in \u001b[36mNDFrame.reindex_like\u001b[39m\u001b[34m(self, other, method, copy, limit, tolerance)\u001b[39m\n\u001b[32m   4600\u001b[39m \u001b[38;5;250m\u001b[39m\u001b[33;03m\"\"\"\u001b[39;00m\n\u001b[32m   4601\u001b[39m \u001b[33;03mReturn an object with matching indices as other object.\u001b[39;00m\n\u001b[32m   4602\u001b[39m \n\u001b[32m   (...)\u001b[39m\u001b[32m   4703\u001b[39m \u001b[33;03m2014-02-15          35.1              NaN    medium\u001b[39;00m\n\u001b[32m   4704\u001b[39m \u001b[33;03m\"\"\"\u001b[39;00m\n\u001b[32m   4705\u001b[39m d = other._construct_axes_dict(\n\u001b[32m   4706\u001b[39m     axes=\u001b[38;5;28mself\u001b[39m._AXIS_ORDERS,\n\u001b[32m   4707\u001b[39m     method=method,\n\u001b[32m   (...)\u001b[39m\u001b[32m   4710\u001b[39m     tolerance=tolerance,\n\u001b[32m   4711\u001b[39m )\n\u001b[32m-> \u001b[39m\u001b[32m4713\u001b[39m \u001b[38;5;28;01mreturn\u001b[39;00m \u001b[38;5;28;43mself\u001b[39;49m\u001b[43m.\u001b[49m\u001b[43mreindex\u001b[49m\u001b[43m(\u001b[49m\u001b[43m*\u001b[49m\u001b[43m*\u001b[49m\u001b[43md\u001b[49m\u001b[43m)\u001b[49m\n",
      "\u001b[36mFile \u001b[39m\u001b[32mg:\\RepEV\\EV_Efficacity_2025\\.venv\\Lib\\site-packages\\pandas\\core\\frame.py:5378\u001b[39m, in \u001b[36mDataFrame.reindex\u001b[39m\u001b[34m(self, labels, index, columns, axis, method, copy, level, fill_value, limit, tolerance)\u001b[39m\n\u001b[32m   5359\u001b[39m \u001b[38;5;129m@doc\u001b[39m(\n\u001b[32m   5360\u001b[39m     NDFrame.reindex,\n\u001b[32m   5361\u001b[39m     klass=_shared_doc_kwargs[\u001b[33m\"\u001b[39m\u001b[33mklass\u001b[39m\u001b[33m\"\u001b[39m],\n\u001b[32m   (...)\u001b[39m\u001b[32m   5376\u001b[39m     tolerance=\u001b[38;5;28;01mNone\u001b[39;00m,\n\u001b[32m   5377\u001b[39m ) -> DataFrame:\n\u001b[32m-> \u001b[39m\u001b[32m5378\u001b[39m     \u001b[38;5;28;01mreturn\u001b[39;00m \u001b[38;5;28;43msuper\u001b[39;49m\u001b[43m(\u001b[49m\u001b[43m)\u001b[49m\u001b[43m.\u001b[49m\u001b[43mreindex\u001b[49m\u001b[43m(\u001b[49m\n\u001b[32m   5379\u001b[39m \u001b[43m        \u001b[49m\u001b[43mlabels\u001b[49m\u001b[43m=\u001b[49m\u001b[43mlabels\u001b[49m\u001b[43m,\u001b[49m\n\u001b[32m   5380\u001b[39m \u001b[43m        \u001b[49m\u001b[43mindex\u001b[49m\u001b[43m=\u001b[49m\u001b[43mindex\u001b[49m\u001b[43m,\u001b[49m\n\u001b[32m   5381\u001b[39m \u001b[43m        \u001b[49m\u001b[43mcolumns\u001b[49m\u001b[43m=\u001b[49m\u001b[43mcolumns\u001b[49m\u001b[43m,\u001b[49m\n\u001b[32m   5382\u001b[39m \u001b[43m        \u001b[49m\u001b[43maxis\u001b[49m\u001b[43m=\u001b[49m\u001b[43maxis\u001b[49m\u001b[43m,\u001b[49m\n\u001b[32m   5383\u001b[39m \u001b[43m        \u001b[49m\u001b[43mmethod\u001b[49m\u001b[43m=\u001b[49m\u001b[43mmethod\u001b[49m\u001b[43m,\u001b[49m\n\u001b[32m   5384\u001b[39m \u001b[43m        \u001b[49m\u001b[43mcopy\u001b[49m\u001b[43m=\u001b[49m\u001b[43mcopy\u001b[49m\u001b[43m,\u001b[49m\n\u001b[32m   5385\u001b[39m \u001b[43m        \u001b[49m\u001b[43mlevel\u001b[49m\u001b[43m=\u001b[49m\u001b[43mlevel\u001b[49m\u001b[43m,\u001b[49m\n\u001b[32m   5386\u001b[39m \u001b[43m        \u001b[49m\u001b[43mfill_value\u001b[49m\u001b[43m=\u001b[49m\u001b[43mfill_value\u001b[49m\u001b[43m,\u001b[49m\n\u001b[32m   5387\u001b[39m \u001b[43m        \u001b[49m\u001b[43mlimit\u001b[49m\u001b[43m=\u001b[49m\u001b[43mlimit\u001b[49m\u001b[43m,\u001b[49m\n\u001b[32m   5388\u001b[39m \u001b[43m        \u001b[49m\u001b[43mtolerance\u001b[49m\u001b[43m=\u001b[49m\u001b[43mtolerance\u001b[49m\u001b[43m,\u001b[49m\n\u001b[32m   5389\u001b[39m \u001b[43m    \u001b[49m\u001b[43m)\u001b[49m\n",
      "\u001b[36mFile \u001b[39m\u001b[32mg:\\RepEV\\EV_Efficacity_2025\\.venv\\Lib\\site-packages\\pandas\\core\\generic.py:5610\u001b[39m, in \u001b[36mNDFrame.reindex\u001b[39m\u001b[34m(self, labels, index, columns, axis, method, copy, level, fill_value, limit, tolerance)\u001b[39m\n\u001b[32m   5607\u001b[39m     \u001b[38;5;28;01mreturn\u001b[39;00m \u001b[38;5;28mself\u001b[39m._reindex_multi(axes, copy, fill_value)\n\u001b[32m   5609\u001b[39m \u001b[38;5;66;03m# perform the reindex on the axes\u001b[39;00m\n\u001b[32m-> \u001b[39m\u001b[32m5610\u001b[39m \u001b[38;5;28;01mreturn\u001b[39;00m \u001b[38;5;28;43mself\u001b[39;49m\u001b[43m.\u001b[49m\u001b[43m_reindex_axes\u001b[49m\u001b[43m(\u001b[49m\n\u001b[32m   5611\u001b[39m \u001b[43m    \u001b[49m\u001b[43maxes\u001b[49m\u001b[43m,\u001b[49m\u001b[43m \u001b[49m\u001b[43mlevel\u001b[49m\u001b[43m,\u001b[49m\u001b[43m \u001b[49m\u001b[43mlimit\u001b[49m\u001b[43m,\u001b[49m\u001b[43m \u001b[49m\u001b[43mtolerance\u001b[49m\u001b[43m,\u001b[49m\u001b[43m \u001b[49m\u001b[43mmethod\u001b[49m\u001b[43m,\u001b[49m\u001b[43m \u001b[49m\u001b[43mfill_value\u001b[49m\u001b[43m,\u001b[49m\u001b[43m \u001b[49m\u001b[43mcopy\u001b[49m\n\u001b[32m   5612\u001b[39m \u001b[43m\u001b[49m\u001b[43m)\u001b[49m.__finalize__(\u001b[38;5;28mself\u001b[39m, method=\u001b[33m\"\u001b[39m\u001b[33mreindex\u001b[39m\u001b[33m\"\u001b[39m)\n",
      "\u001b[36mFile \u001b[39m\u001b[32mg:\\RepEV\\EV_Efficacity_2025\\.venv\\Lib\\site-packages\\pandas\\core\\generic.py:5633\u001b[39m, in \u001b[36mNDFrame._reindex_axes\u001b[39m\u001b[34m(self, axes, level, limit, tolerance, method, fill_value, copy)\u001b[39m\n\u001b[32m   5630\u001b[39m     \u001b[38;5;28;01mcontinue\u001b[39;00m\n\u001b[32m   5632\u001b[39m ax = \u001b[38;5;28mself\u001b[39m._get_axis(a)\n\u001b[32m-> \u001b[39m\u001b[32m5633\u001b[39m new_index, indexer = \u001b[43max\u001b[49m\u001b[43m.\u001b[49m\u001b[43mreindex\u001b[49m\u001b[43m(\u001b[49m\n\u001b[32m   5634\u001b[39m \u001b[43m    \u001b[49m\u001b[43mlabels\u001b[49m\u001b[43m,\u001b[49m\u001b[43m \u001b[49m\u001b[43mlevel\u001b[49m\u001b[43m=\u001b[49m\u001b[43mlevel\u001b[49m\u001b[43m,\u001b[49m\u001b[43m \u001b[49m\u001b[43mlimit\u001b[49m\u001b[43m=\u001b[49m\u001b[43mlimit\u001b[49m\u001b[43m,\u001b[49m\u001b[43m \u001b[49m\u001b[43mtolerance\u001b[49m\u001b[43m=\u001b[49m\u001b[43mtolerance\u001b[49m\u001b[43m,\u001b[49m\u001b[43m \u001b[49m\u001b[43mmethod\u001b[49m\u001b[43m=\u001b[49m\u001b[43mmethod\u001b[49m\n\u001b[32m   5635\u001b[39m \u001b[43m\u001b[49m\u001b[43m)\u001b[49m\n\u001b[32m   5637\u001b[39m axis = \u001b[38;5;28mself\u001b[39m._get_axis_number(a)\n\u001b[32m   5638\u001b[39m obj = obj._reindex_with_indexers(\n\u001b[32m   5639\u001b[39m     {axis: [new_index, indexer]},\n\u001b[32m   5640\u001b[39m     fill_value=fill_value,\n\u001b[32m   5641\u001b[39m     copy=copy,\n\u001b[32m   5642\u001b[39m     allow_dups=\u001b[38;5;28;01mFalse\u001b[39;00m,\n\u001b[32m   5643\u001b[39m )\n",
      "\u001b[36mFile \u001b[39m\u001b[32mg:\\RepEV\\EV_Efficacity_2025\\.venv\\Lib\\site-packages\\pandas\\core\\indexes\\category.py:396\u001b[39m, in \u001b[36mCategoricalIndex.reindex\u001b[39m\u001b[34m(self, target, method, level, limit, tolerance)\u001b[39m\n\u001b[32m    392\u001b[39m \u001b[38;5;28;01mif\u001b[39;00m limit \u001b[38;5;129;01mis\u001b[39;00m \u001b[38;5;129;01mnot\u001b[39;00m \u001b[38;5;28;01mNone\u001b[39;00m:\n\u001b[32m    393\u001b[39m     \u001b[38;5;28;01mraise\u001b[39;00m \u001b[38;5;167;01mNotImplementedError\u001b[39;00m(\n\u001b[32m    394\u001b[39m         \u001b[33m\"\u001b[39m\u001b[33margument limit is not implemented for CategoricalIndex.reindex\u001b[39m\u001b[33m\"\u001b[39m\n\u001b[32m    395\u001b[39m     )\n\u001b[32m--> \u001b[39m\u001b[32m396\u001b[39m \u001b[38;5;28;01mreturn\u001b[39;00m \u001b[38;5;28;43msuper\u001b[39;49m\u001b[43m(\u001b[49m\u001b[43m)\u001b[49m\u001b[43m.\u001b[49m\u001b[43mreindex\u001b[49m\u001b[43m(\u001b[49m\u001b[43mtarget\u001b[49m\u001b[43m)\u001b[49m\n",
      "\u001b[36mFile \u001b[39m\u001b[32mg:\\RepEV\\EV_Efficacity_2025\\.venv\\Lib\\site-packages\\pandas\\core\\indexes\\base.py:4429\u001b[39m, in \u001b[36mIndex.reindex\u001b[39m\u001b[34m(self, target, method, level, limit, tolerance)\u001b[39m\n\u001b[32m   4426\u001b[39m     \u001b[38;5;28;01mraise\u001b[39;00m \u001b[38;5;167;01mValueError\u001b[39;00m(\u001b[33m\"\u001b[39m\u001b[33mcannot handle a non-unique multi-index!\u001b[39m\u001b[33m\"\u001b[39m)\n\u001b[32m   4427\u001b[39m \u001b[38;5;28;01melif\u001b[39;00m \u001b[38;5;129;01mnot\u001b[39;00m \u001b[38;5;28mself\u001b[39m.is_unique:\n\u001b[32m   4428\u001b[39m     \u001b[38;5;66;03m# GH#42568\u001b[39;00m\n\u001b[32m-> \u001b[39m\u001b[32m4429\u001b[39m     \u001b[38;5;28;01mraise\u001b[39;00m \u001b[38;5;167;01mValueError\u001b[39;00m(\u001b[33m\"\u001b[39m\u001b[33mcannot reindex on an axis with duplicate labels\u001b[39m\u001b[33m\"\u001b[39m)\n\u001b[32m   4430\u001b[39m \u001b[38;5;28;01melse\u001b[39;00m:\n\u001b[32m   4431\u001b[39m     indexer, _ = \u001b[38;5;28mself\u001b[39m.get_indexer_non_unique(target)\n",
      "\u001b[31mValueError\u001b[39m: cannot reindex on an axis with duplicate labels"
     ]
    }
   ],
   "source": [
    "stock = get_fleet()  # run this to get the fleet data\n",
    "\n",
    "# 100% electric replacement:\n",
    "sim100e = simulate_electrification(stock, frac_e=1.0, frac_h=0.0, keep_non=0.0)\n",
    "\n",
    "# 50/50 electric / hybrid:\n",
    "sim50_50 = simulate_electrification(stock, frac_e=0.5, frac_h=0.5, keep_non=0.0)\n",
    "\n",
    "# 100% hybrid:\n",
    "sim100h = simulate_electrification(stock, frac_e=0.0, frac_h=1.0, keep_non=0.0)\n"
   ]
  },
  {
   "cell_type": "code",
   "execution_count": 1,
   "id": "2b5e6366",
   "metadata": {},
   "outputs": [
    {
     "ename": "ImportError",
     "evalue": "Missing optional dependency 'lxml'.  Use pip or conda to install lxml.",
     "output_type": "error",
     "traceback": [
      "\u001b[31m---------------------------------------------------------------------------\u001b[39m",
      "\u001b[31mModuleNotFoundError\u001b[39m                       Traceback (most recent call last)",
      "\u001b[36mFile \u001b[39m\u001b[32mg:\\RepEV\\EV_Efficacity_2025\\.venv\\Lib\\site-packages\\pandas\\compat\\_optional.py:135\u001b[39m, in \u001b[36mimport_optional_dependency\u001b[39m\u001b[34m(name, extra, errors, min_version)\u001b[39m\n\u001b[32m    134\u001b[39m \u001b[38;5;28;01mtry\u001b[39;00m:\n\u001b[32m--> \u001b[39m\u001b[32m135\u001b[39m     module = \u001b[43mimportlib\u001b[49m\u001b[43m.\u001b[49m\u001b[43mimport_module\u001b[49m\u001b[43m(\u001b[49m\u001b[43mname\u001b[49m\u001b[43m)\u001b[49m\n\u001b[32m    136\u001b[39m \u001b[38;5;28;01mexcept\u001b[39;00m \u001b[38;5;167;01mImportError\u001b[39;00m:\n",
      "\u001b[36mFile \u001b[39m\u001b[32m~\\AppData\\Local\\Programs\\Python\\Python313\\Lib\\importlib\\__init__.py:88\u001b[39m, in \u001b[36mimport_module\u001b[39m\u001b[34m(name, package)\u001b[39m\n\u001b[32m     87\u001b[39m         level += \u001b[32m1\u001b[39m\n\u001b[32m---> \u001b[39m\u001b[32m88\u001b[39m \u001b[38;5;28;01mreturn\u001b[39;00m \u001b[43m_bootstrap\u001b[49m\u001b[43m.\u001b[49m\u001b[43m_gcd_import\u001b[49m\u001b[43m(\u001b[49m\u001b[43mname\u001b[49m\u001b[43m[\u001b[49m\u001b[43mlevel\u001b[49m\u001b[43m:\u001b[49m\u001b[43m]\u001b[49m\u001b[43m,\u001b[49m\u001b[43m \u001b[49m\u001b[43mpackage\u001b[49m\u001b[43m,\u001b[49m\u001b[43m \u001b[49m\u001b[43mlevel\u001b[49m\u001b[43m)\u001b[49m\n",
      "\u001b[36mFile \u001b[39m\u001b[32m<frozen importlib._bootstrap>:1387\u001b[39m, in \u001b[36m_gcd_import\u001b[39m\u001b[34m(name, package, level)\u001b[39m\n",
      "\u001b[36mFile \u001b[39m\u001b[32m<frozen importlib._bootstrap>:1360\u001b[39m, in \u001b[36m_find_and_load\u001b[39m\u001b[34m(name, import_)\u001b[39m\n",
      "\u001b[36mFile \u001b[39m\u001b[32m<frozen importlib._bootstrap>:1310\u001b[39m, in \u001b[36m_find_and_load_unlocked\u001b[39m\u001b[34m(name, import_)\u001b[39m\n",
      "\u001b[36mFile \u001b[39m\u001b[32m<frozen importlib._bootstrap>:488\u001b[39m, in \u001b[36m_call_with_frames_removed\u001b[39m\u001b[34m(f, *args, **kwds)\u001b[39m\n",
      "\u001b[36mFile \u001b[39m\u001b[32m<frozen importlib._bootstrap>:1387\u001b[39m, in \u001b[36m_gcd_import\u001b[39m\u001b[34m(name, package, level)\u001b[39m\n",
      "\u001b[36mFile \u001b[39m\u001b[32m<frozen importlib._bootstrap>:1360\u001b[39m, in \u001b[36m_find_and_load\u001b[39m\u001b[34m(name, import_)\u001b[39m\n",
      "\u001b[36mFile \u001b[39m\u001b[32m<frozen importlib._bootstrap>:1324\u001b[39m, in \u001b[36m_find_and_load_unlocked\u001b[39m\u001b[34m(name, import_)\u001b[39m\n",
      "\u001b[31mModuleNotFoundError\u001b[39m: No module named 'lxml'",
      "\nDuring handling of the above exception, another exception occurred:\n",
      "\u001b[31mImportError\u001b[39m                               Traceback (most recent call last)",
      "\u001b[36mCell\u001b[39m\u001b[36m \u001b[39m\u001b[32mIn[1]\u001b[39m\u001b[32m, line 26\u001b[39m\n\u001b[32m     11\u001b[39m     \u001b[38;5;28;01mreturn\u001b[39;00m \u001b[38;5;28mint\u001b[39m(km), \u001b[38;5;28mint\u001b[39m(yr)\n\u001b[32m     13\u001b[39m urls = {\n\u001b[32m     14\u001b[39m     \u001b[33m\"\u001b[39m\u001b[33mAB\u001b[39m\u001b[33m\"\u001b[39m: \u001b[33m\"\u001b[39m\u001b[33mhttps://oee.nrcan.gc.ca/corporate/statistics/neud/dpa/\u001b[39m\u001b[33m\"\u001b[39m\n\u001b[32m     15\u001b[39m           \u001b[33m\"\u001b[39m\u001b[33mshowTable.cfm?juris=ab&page=0&rn=21&sector=tran&type=CP&year=2022\u001b[39m\u001b[33m\"\u001b[39m,\n\u001b[32m   (...)\u001b[39m\u001b[32m     23\u001b[39m           \u001b[33m\"\u001b[39m\u001b[33mshowTable.cfm?juris=ns&page=0&rn=21&sector=tran&type=CP&year=2022\u001b[39m\u001b[33m\"\u001b[39m,\n\u001b[32m     24\u001b[39m }\n\u001b[32m---> \u001b[39m\u001b[32m26\u001b[39m data = {prov: \u001b[43mlatest_mean_km\u001b[49m\u001b[43m(\u001b[49m\u001b[43murl\u001b[49m\u001b[43m)\u001b[49m \u001b[38;5;28;01mfor\u001b[39;00m prov, url \u001b[38;5;129;01min\u001b[39;00m urls.items()}\n",
      "\u001b[36mCell\u001b[39m\u001b[36m \u001b[39m\u001b[32mIn[1]\u001b[39m\u001b[32m, line 8\u001b[39m, in \u001b[36mlatest_mean_km\u001b[39m\u001b[34m(table_url)\u001b[39m\n\u001b[32m      3\u001b[39m \u001b[38;5;28;01mdef\u001b[39;00m\u001b[38;5;250m \u001b[39m\u001b[34mlatest_mean_km\u001b[39m(table_url: \u001b[38;5;28mstr\u001b[39m) -> \u001b[38;5;28mtuple\u001b[39m[\u001b[38;5;28mint\u001b[39m, \u001b[38;5;28mint\u001b[39m]:\n\u001b[32m      4\u001b[39m \u001b[38;5;250m    \u001b[39m\u001b[33;03m\"\"\"\u001b[39;00m\n\u001b[32m      5\u001b[39m \u001b[33;03m    Pull NRCan Table 21 and return (mean_km, year_of_value).\u001b[39;00m\n\u001b[32m      6\u001b[39m \u001b[33;03m    Works for any province‑specific URL.\u001b[39;00m\n\u001b[32m      7\u001b[39m \u001b[33;03m    \"\"\"\u001b[39;00m\n\u001b[32m----> \u001b[39m\u001b[32m8\u001b[39m     df  = \u001b[43mpd\u001b[49m\u001b[43m.\u001b[49m\u001b[43mread_html\u001b[49m\u001b[43m(\u001b[49m\u001b[43mtable_url\u001b[49m\u001b[43m,\u001b[49m\u001b[43m \u001b[49m\u001b[43mheader\u001b[49m\u001b[43m=\u001b[49m\u001b[32;43m0\u001b[39;49m\u001b[43m)\u001b[49m[\u001b[32m0\u001b[39m]          \u001b[38;5;66;03m# grab the HTML table\u001b[39;00m\n\u001b[32m      9\u001b[39m     yr  = df.columns[-\u001b[32m1\u001b[39m]                                \u001b[38;5;66;03m# right‑most year\u001b[39;00m\n\u001b[32m     10\u001b[39m     km  = df.loc[df.iloc[:,\u001b[32m0\u001b[39m].str.contains(\u001b[33m\"\u001b[39m\u001b[33mAverage Distance\u001b[39m\u001b[33m\"\u001b[39m), yr].squeeze()\n",
      "\u001b[36mFile \u001b[39m\u001b[32mg:\\RepEV\\EV_Efficacity_2025\\.venv\\Lib\\site-packages\\pandas\\io\\html.py:1240\u001b[39m, in \u001b[36mread_html\u001b[39m\u001b[34m(io, match, flavor, header, index_col, skiprows, attrs, parse_dates, thousands, encoding, decimal, converters, na_values, keep_default_na, displayed_only, extract_links, dtype_backend, storage_options)\u001b[39m\n\u001b[32m   1224\u001b[39m \u001b[38;5;28;01mif\u001b[39;00m \u001b[38;5;28misinstance\u001b[39m(io, \u001b[38;5;28mstr\u001b[39m) \u001b[38;5;129;01mand\u001b[39;00m \u001b[38;5;129;01mnot\u001b[39;00m \u001b[38;5;28many\u001b[39m(\n\u001b[32m   1225\u001b[39m     [\n\u001b[32m   1226\u001b[39m         is_file_like(io),\n\u001b[32m   (...)\u001b[39m\u001b[32m   1230\u001b[39m     ]\n\u001b[32m   1231\u001b[39m ):\n\u001b[32m   1232\u001b[39m     warnings.warn(\n\u001b[32m   1233\u001b[39m         \u001b[33m\"\u001b[39m\u001b[33mPassing literal html to \u001b[39m\u001b[33m'\u001b[39m\u001b[33mread_html\u001b[39m\u001b[33m'\u001b[39m\u001b[33m is deprecated and \u001b[39m\u001b[33m\"\u001b[39m\n\u001b[32m   1234\u001b[39m         \u001b[33m\"\u001b[39m\u001b[33mwill be removed in a future version. To read from a \u001b[39m\u001b[33m\"\u001b[39m\n\u001b[32m   (...)\u001b[39m\u001b[32m   1237\u001b[39m         stacklevel=find_stack_level(),\n\u001b[32m   1238\u001b[39m     )\n\u001b[32m-> \u001b[39m\u001b[32m1240\u001b[39m \u001b[38;5;28;01mreturn\u001b[39;00m \u001b[43m_parse\u001b[49m\u001b[43m(\u001b[49m\n\u001b[32m   1241\u001b[39m \u001b[43m    \u001b[49m\u001b[43mflavor\u001b[49m\u001b[43m=\u001b[49m\u001b[43mflavor\u001b[49m\u001b[43m,\u001b[49m\n\u001b[32m   1242\u001b[39m \u001b[43m    \u001b[49m\u001b[43mio\u001b[49m\u001b[43m=\u001b[49m\u001b[43mio\u001b[49m\u001b[43m,\u001b[49m\n\u001b[32m   1243\u001b[39m \u001b[43m    \u001b[49m\u001b[43mmatch\u001b[49m\u001b[43m=\u001b[49m\u001b[43mmatch\u001b[49m\u001b[43m,\u001b[49m\n\u001b[32m   1244\u001b[39m \u001b[43m    \u001b[49m\u001b[43mheader\u001b[49m\u001b[43m=\u001b[49m\u001b[43mheader\u001b[49m\u001b[43m,\u001b[49m\n\u001b[32m   1245\u001b[39m \u001b[43m    \u001b[49m\u001b[43mindex_col\u001b[49m\u001b[43m=\u001b[49m\u001b[43mindex_col\u001b[49m\u001b[43m,\u001b[49m\n\u001b[32m   1246\u001b[39m \u001b[43m    \u001b[49m\u001b[43mskiprows\u001b[49m\u001b[43m=\u001b[49m\u001b[43mskiprows\u001b[49m\u001b[43m,\u001b[49m\n\u001b[32m   1247\u001b[39m \u001b[43m    \u001b[49m\u001b[43mparse_dates\u001b[49m\u001b[43m=\u001b[49m\u001b[43mparse_dates\u001b[49m\u001b[43m,\u001b[49m\n\u001b[32m   1248\u001b[39m \u001b[43m    \u001b[49m\u001b[43mthousands\u001b[49m\u001b[43m=\u001b[49m\u001b[43mthousands\u001b[49m\u001b[43m,\u001b[49m\n\u001b[32m   1249\u001b[39m \u001b[43m    \u001b[49m\u001b[43mattrs\u001b[49m\u001b[43m=\u001b[49m\u001b[43mattrs\u001b[49m\u001b[43m,\u001b[49m\n\u001b[32m   1250\u001b[39m \u001b[43m    \u001b[49m\u001b[43mencoding\u001b[49m\u001b[43m=\u001b[49m\u001b[43mencoding\u001b[49m\u001b[43m,\u001b[49m\n\u001b[32m   1251\u001b[39m \u001b[43m    \u001b[49m\u001b[43mdecimal\u001b[49m\u001b[43m=\u001b[49m\u001b[43mdecimal\u001b[49m\u001b[43m,\u001b[49m\n\u001b[32m   1252\u001b[39m \u001b[43m    \u001b[49m\u001b[43mconverters\u001b[49m\u001b[43m=\u001b[49m\u001b[43mconverters\u001b[49m\u001b[43m,\u001b[49m\n\u001b[32m   1253\u001b[39m \u001b[43m    \u001b[49m\u001b[43mna_values\u001b[49m\u001b[43m=\u001b[49m\u001b[43mna_values\u001b[49m\u001b[43m,\u001b[49m\n\u001b[32m   1254\u001b[39m \u001b[43m    \u001b[49m\u001b[43mkeep_default_na\u001b[49m\u001b[43m=\u001b[49m\u001b[43mkeep_default_na\u001b[49m\u001b[43m,\u001b[49m\n\u001b[32m   1255\u001b[39m \u001b[43m    \u001b[49m\u001b[43mdisplayed_only\u001b[49m\u001b[43m=\u001b[49m\u001b[43mdisplayed_only\u001b[49m\u001b[43m,\u001b[49m\n\u001b[32m   1256\u001b[39m \u001b[43m    \u001b[49m\u001b[43mextract_links\u001b[49m\u001b[43m=\u001b[49m\u001b[43mextract_links\u001b[49m\u001b[43m,\u001b[49m\n\u001b[32m   1257\u001b[39m \u001b[43m    \u001b[49m\u001b[43mdtype_backend\u001b[49m\u001b[43m=\u001b[49m\u001b[43mdtype_backend\u001b[49m\u001b[43m,\u001b[49m\n\u001b[32m   1258\u001b[39m \u001b[43m    \u001b[49m\u001b[43mstorage_options\u001b[49m\u001b[43m=\u001b[49m\u001b[43mstorage_options\u001b[49m\u001b[43m,\u001b[49m\n\u001b[32m   1259\u001b[39m \u001b[43m\u001b[49m\u001b[43m)\u001b[49m\n",
      "\u001b[36mFile \u001b[39m\u001b[32mg:\\RepEV\\EV_Efficacity_2025\\.venv\\Lib\\site-packages\\pandas\\io\\html.py:971\u001b[39m, in \u001b[36m_parse\u001b[39m\u001b[34m(flavor, io, match, attrs, encoding, displayed_only, extract_links, storage_options, **kwargs)\u001b[39m\n\u001b[32m    969\u001b[39m retained = \u001b[38;5;28;01mNone\u001b[39;00m\n\u001b[32m    970\u001b[39m \u001b[38;5;28;01mfor\u001b[39;00m flav \u001b[38;5;129;01min\u001b[39;00m flavor:\n\u001b[32m--> \u001b[39m\u001b[32m971\u001b[39m     parser = \u001b[43m_parser_dispatch\u001b[49m\u001b[43m(\u001b[49m\u001b[43mflav\u001b[49m\u001b[43m)\u001b[49m\n\u001b[32m    972\u001b[39m     p = parser(\n\u001b[32m    973\u001b[39m         io,\n\u001b[32m    974\u001b[39m         compiled_match,\n\u001b[32m   (...)\u001b[39m\u001b[32m    979\u001b[39m         storage_options,\n\u001b[32m    980\u001b[39m     )\n\u001b[32m    982\u001b[39m     \u001b[38;5;28;01mtry\u001b[39;00m:\n",
      "\u001b[36mFile \u001b[39m\u001b[32mg:\\RepEV\\EV_Efficacity_2025\\.venv\\Lib\\site-packages\\pandas\\io\\html.py:918\u001b[39m, in \u001b[36m_parser_dispatch\u001b[39m\u001b[34m(flavor)\u001b[39m\n\u001b[32m    916\u001b[39m     import_optional_dependency(\u001b[33m\"\u001b[39m\u001b[33mbs4\u001b[39m\u001b[33m\"\u001b[39m)\n\u001b[32m    917\u001b[39m \u001b[38;5;28;01melse\u001b[39;00m:\n\u001b[32m--> \u001b[39m\u001b[32m918\u001b[39m     \u001b[43mimport_optional_dependency\u001b[49m\u001b[43m(\u001b[49m\u001b[33;43m\"\u001b[39;49m\u001b[33;43mlxml.etree\u001b[39;49m\u001b[33;43m\"\u001b[39;49m\u001b[43m)\u001b[49m\n\u001b[32m    919\u001b[39m \u001b[38;5;28;01mreturn\u001b[39;00m _valid_parsers[flavor]\n",
      "\u001b[36mFile \u001b[39m\u001b[32mg:\\RepEV\\EV_Efficacity_2025\\.venv\\Lib\\site-packages\\pandas\\compat\\_optional.py:138\u001b[39m, in \u001b[36mimport_optional_dependency\u001b[39m\u001b[34m(name, extra, errors, min_version)\u001b[39m\n\u001b[32m    136\u001b[39m \u001b[38;5;28;01mexcept\u001b[39;00m \u001b[38;5;167;01mImportError\u001b[39;00m:\n\u001b[32m    137\u001b[39m     \u001b[38;5;28;01mif\u001b[39;00m errors == \u001b[33m\"\u001b[39m\u001b[33mraise\u001b[39m\u001b[33m\"\u001b[39m:\n\u001b[32m--> \u001b[39m\u001b[32m138\u001b[39m         \u001b[38;5;28;01mraise\u001b[39;00m \u001b[38;5;167;01mImportError\u001b[39;00m(msg)\n\u001b[32m    139\u001b[39m     \u001b[38;5;28;01mreturn\u001b[39;00m \u001b[38;5;28;01mNone\u001b[39;00m\n\u001b[32m    141\u001b[39m \u001b[38;5;66;03m# Handle submodules: if we have submodule, grab parent module from sys.modules\u001b[39;00m\n",
      "\u001b[31mImportError\u001b[39m: Missing optional dependency 'lxml'.  Use pip or conda to install lxml."
     ]
    }
   ],
   "source": [
    "import pandas as pd, numpy as np\n",
    "\n",
    "def latest_mean_km(table_url: str) -> tuple[int, int]:\n",
    "    \"\"\"\n",
    "    Pull NRCan Table 21 and return (mean_km, year_of_value).\n",
    "    Works for any province‑specific URL.\n",
    "    \"\"\"\n",
    "    df  = pd.read_html(table_url, header=0)[0]          # grab the HTML table\n",
    "    yr  = df.columns[-1]                                # right‑most year\n",
    "    km  = df.loc[df.iloc[:,0].str.contains(\"Average Distance\"), yr].squeeze()\n",
    "    return int(km), int(yr)\n",
    "\n",
    "urls = {\n",
    "    \"AB\": \"https://oee.nrcan.gc.ca/corporate/statistics/neud/dpa/\"\n",
    "          \"showTable.cfm?juris=ab&page=0&rn=21&sector=tran&type=CP&year=2022\",\n",
    "    \"BC\": \"https://oee.nrcan.gc.ca/corporate/statistics/neud/dpa/\"\n",
    "          \"showTable.cfm?juris=bct&page=0&rn=21&sector=tran&type=CP&year=2021\",\n",
    "    \"ON\": \"https://oee.nrcan.gc.ca/corporate/statistics/neud/dpa/\"\n",
    "          \"showTable.cfm?juris=on&page=0&rn=21&sector=tran&type=CP&year=2021\",\n",
    "    \"QC\": \"https://oee.nrcan.gc.ca/corporate/statistics/neud/dpa/\"\n",
    "          \"showTable.cfm?juris=qc&page=0&rn=21&sector=tran&type=CP&year=2022\",\n",
    "    \"NS\": \"https://oee.nrcan.gc.ca/corporate/statistics/neud/dpa/\"\n",
    "          \"showTable.cfm?juris=ns&page=0&rn=21&sector=tran&type=CP&year=2022\",\n",
    "}\n",
    "\n",
    "data = {prov: latest_mean_km(url) for prov, url in urls.items()}\n"
   ]
  }
 ],
 "metadata": {
  "kernelspec": {
   "display_name": ".venv",
   "language": "python",
   "name": "python3"
  },
  "language_info": {
   "codemirror_mode": {
    "name": "ipython",
    "version": 3
   },
   "file_extension": ".py",
   "mimetype": "text/x-python",
   "name": "python",
   "nbconvert_exporter": "python",
   "pygments_lexer": "ipython3",
   "version": "3.13.3"
  }
 },
 "nbformat": 4,
 "nbformat_minor": 5
}
